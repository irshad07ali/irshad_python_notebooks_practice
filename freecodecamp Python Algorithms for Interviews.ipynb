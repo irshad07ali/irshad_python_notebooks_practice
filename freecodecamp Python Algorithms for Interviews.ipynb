{
 "cells": [
  {
   "cell_type": "code",
   "execution_count": 13,
   "id": "9045693d",
   "metadata": {},
   "outputs": [],
   "source": [
    "# sum of n numbers\n",
    "def fun1(n):\n",
    "    sum=0\n",
    "    for i in range(n+1):\n",
    "        sum+=i\n",
    "    return sum"
   ]
  },
  {
   "cell_type": "code",
   "execution_count": 17,
   "id": "d583501d",
   "metadata": {},
   "outputs": [
    {
     "data": {
      "text/plain": [
       "15"
      ]
     },
     "execution_count": 17,
     "metadata": {},
     "output_type": "execute_result"
    }
   ],
   "source": [
    "fun1(5)\n"
   ]
  },
  {
   "cell_type": "code",
   "execution_count": 16,
   "id": "80958e0f",
   "metadata": {},
   "outputs": [
    {
     "data": {
      "text/plain": [
       "253"
      ]
     },
     "execution_count": 16,
     "metadata": {},
     "output_type": "execute_result"
    }
   ],
   "source": [
    "fun1(22)"
   ]
  },
  {
   "cell_type": "code",
   "execution_count": 20,
   "id": "811e477e",
   "metadata": {},
   "outputs": [],
   "source": [
    "# sum using formula\n",
    "def fun2(b):\n",
    "    sums=0\n",
    "    sums = b*(b+1)/2\n",
    "    print(sums)\n",
    "    return sums\n"
   ]
  },
  {
   "cell_type": "code",
   "execution_count": 21,
   "id": "f1200f86",
   "metadata": {},
   "outputs": [
    {
     "name": "stdout",
     "output_type": "stream",
     "text": [
      "28.0\n"
     ]
    },
    {
     "data": {
      "text/plain": [
       "28.0"
      ]
     },
     "execution_count": 21,
     "metadata": {},
     "output_type": "execute_result"
    }
   ],
   "source": [
    "fun2(7)"
   ]
  },
  {
   "cell_type": "code",
   "execution_count": 22,
   "id": "e5022a5c",
   "metadata": {},
   "outputs": [
    {
     "name": "stdout",
     "output_type": "stream",
     "text": [
      "1\n"
     ]
    }
   ],
   "source": [
    "#function for traversing a list\n",
    "def func(values):\n",
    "    print(values[0])\n",
    "func([1,2,3,4])"
   ]
  },
  {
   "cell_type": "code",
   "execution_count": 27,
   "id": "c976a6b0",
   "metadata": {},
   "outputs": [
    {
     "name": "stdout",
     "output_type": "stream",
     "text": [
      "22\n",
      "44\n",
      "66\n",
      "77\n"
     ]
    }
   ],
   "source": [
    "# function for traversing a list\n",
    "def function(list):\n",
    "    for val in list:\n",
    "        sum=0\n",
    "        print(val)\n",
    "        \n",
    "#list =[1,2,3,4,5,6,7,8]\n",
    "#function(list)\n",
    "function([22,44,66,77])\n",
    "        "
   ]
  },
  {
   "cell_type": "code",
   "execution_count": 30,
   "id": "1134a5df",
   "metadata": {
    "scrolled": true
   },
   "outputs": [
    {
     "name": "stdout",
     "output_type": "stream",
     "text": [
      "1 1\n",
      "1 2\n",
      "1 3\n",
      "1 4\n",
      "2 1\n",
      "2 2\n",
      "2 3\n",
      "2 4\n",
      "3 1\n",
      "3 2\n",
      "3 3\n",
      "3 4\n",
      "4 1\n",
      "4 2\n",
      "4 3\n",
      "4 4\n"
     ]
    }
   ],
   "source": [
    "#function with 2 loops\n",
    "def funct(list):\n",
    "    for val1 in list:\n",
    "        for val2 in list:\n",
    "            print(val1,val2)\n",
    "list = [1,2,3,4]\n",
    "funct(list)"
   ]
  },
  {
   "cell_type": "code",
   "execution_count": 34,
   "id": "8e326b3f",
   "metadata": {},
   "outputs": [
    {
     "name": "stdout",
     "output_type": "stream",
     "text": [
      "2\n",
      "2\n",
      "4\n",
      "6\n",
      "number\n",
      "number\n",
      "number\n",
      "number\n",
      "number\n",
      "number\n",
      "number\n",
      "number\n",
      "number\n",
      "number\n"
     ]
    }
   ],
   "source": [
    "# + - // %\n",
    "def comp(list1):\n",
    "    print(list1[0])\n",
    "    \n",
    "    midpoint = len(list1)//2\n",
    "    \n",
    "    for val in list1[:midpoint]:\n",
    "        print(val)\n",
    "    for x in range (10):\n",
    "        print('number')\n",
    "        \n",
    "list1 =[2,4,6,7,9,1,11]\n",
    "comp(list1)"
   ]
  },
  {
   "cell_type": "code",
   "execution_count": 37,
   "id": "93ba8a7c",
   "metadata": {},
   "outputs": [
    {
     "data": {
      "text/plain": [
       "True"
      ]
     },
     "execution_count": 37,
     "metadata": {},
     "output_type": "execute_result"
    }
   ],
   "source": [
    "# finding an element\n",
    "def find(list1, elem):\n",
    "    for val in list1:\n",
    "        if val==elem:\n",
    "            return True\n",
    "    return False\n",
    "\n",
    "list1=[1,2,4,6,7,9,11]\n",
    "find(list1,4)"
   ]
  },
  {
   "cell_type": "code",
   "execution_count": 38,
   "id": "b74fbad0",
   "metadata": {},
   "outputs": [
    {
     "data": {
      "text/plain": [
       "False"
      ]
     },
     "execution_count": 38,
     "metadata": {},
     "output_type": "execute_result"
    }
   ],
   "source": [
    "find(list1,8)"
   ]
  },
  {
   "cell_type": "code",
   "execution_count": 39,
   "id": "dcd407e3",
   "metadata": {},
   "outputs": [
    {
     "data": {
      "text/plain": [
       "[1, 2, 4, 6, 7, 9, 11]"
      ]
     },
     "execution_count": 39,
     "metadata": {},
     "output_type": "execute_result"
    }
   ],
   "source": [
    "list1"
   ]
  },
  {
   "cell_type": "code",
   "execution_count": 1,
   "id": "b0f4e779",
   "metadata": {},
   "outputs": [
    {
     "name": "stdout",
     "output_type": "stream",
     "text": [
      "1\n"
     ]
    }
   ],
   "source": [
    "#tiger analytics interview question\n",
    "# first mssing number\n",
    "\n",
    "\n",
    "arr = [3,7,-1,8,9,10]\n",
    "\n",
    "for i in range(1,max(arr)):\n",
    "    if i in arr:\n",
    "        continue\n",
    "    else:\n",
    "        print(i)\n",
    "        break "
   ]
  },
  {
   "cell_type": "code",
   "execution_count": 2,
   "id": "64ec112f",
   "metadata": {},
   "outputs": [
    {
     "name": "stdout",
     "output_type": "stream",
     "text": [
      "4\n"
     ]
    }
   ],
   "source": [
    "\n",
    "# Another approach with O(n):\n",
    "l=[2, 3, 7,1, 6, 8, -1, -10, 15]\n",
    "a=[*range(1,len(l))]\n",
    "for i in a:\n",
    "\n",
    "    if(i not in l):\n",
    "\n",
    "        print(i)\n",
    "\n",
    "        break "
   ]
  },
  {
   "cell_type": "code",
   "execution_count": 3,
   "id": "c9ba355c",
   "metadata": {},
   "outputs": [],
   "source": [
    "def min_pos(list_1):\n",
    "\n",
    "     for i in range(1,max(list_1)+1):\n",
    "\n",
    "        if (i not in list_1):\n",
    "\n",
    "            return(i)"
   ]
  },
  {
   "cell_type": "code",
   "execution_count": 4,
   "id": "ee9e78e2",
   "metadata": {},
   "outputs": [],
   "source": [
    "list1= [2, 3, 7,1, 6, 8, -1, -10, 15]"
   ]
  },
  {
   "cell_type": "code",
   "execution_count": 5,
   "id": "193f3e0f",
   "metadata": {},
   "outputs": [
    {
     "data": {
      "text/plain": [
       "4"
      ]
     },
     "execution_count": 5,
     "metadata": {},
     "output_type": "execute_result"
    }
   ],
   "source": [
    "min_pos(list1)"
   ]
  },
  {
   "cell_type": "code",
   "execution_count": 7,
   "id": "003c9aba",
   "metadata": {},
   "outputs": [
    {
     "name": "stdout",
     "output_type": "stream",
     "text": [
      "4\n"
     ]
    }
   ],
   "source": [
    "\n",
    "input = [1,-1,3,7,8,0,2,5,-6]\n",
    "\n",
    "#input = [3,7,-1,8,9,10]\n",
    "\n",
    "x = input\n",
    "x.sort()\n",
    "for i in range(1,10):\n",
    "  if(i in x):\n",
    "    pass;\n",
    "  else:\n",
    "    print(i)\n",
    "    break "
   ]
  },
  {
   "cell_type": "code",
   "execution_count": 18,
   "id": "215563df",
   "metadata": {},
   "outputs": [
    {
     "data": {
      "text/plain": [
       "{1: 1, 2: 2, 3: 0, 9: 0, 100: 0, 99: 0, 8: 1}"
      ]
     },
     "execution_count": 18,
     "metadata": {},
     "output_type": "execute_result"
    }
   ],
   "source": [
    "list1 = [1,2,3,9,100,99,8]\n",
    "list2 = [1,2,2,8,200]\n",
    "\n",
    "dictlist1 ={}\n",
    "for i in list1:\n",
    "    dictlist1[i]=0\n",
    "for i in list1:\n",
    "    for j in list2:\n",
    "        if i==j:\n",
    "            dictlist1[i]+=1\n",
    "dictlist1"
   ]
  },
  {
   "cell_type": "code",
   "execution_count": 9,
   "id": "13c4a6aa",
   "metadata": {},
   "outputs": [
    {
     "data": {
      "text/plain": [
       "{1: 0, 2: 0, 3: 0, 9: 0, 100: 0, 99: 0, 8: 0}"
      ]
     },
     "execution_count": 9,
     "metadata": {},
     "output_type": "execute_result"
    }
   ],
   "source": [
    "dictlist1"
   ]
  },
  {
   "cell_type": "code",
   "execution_count": 16,
   "id": "7dd42fa3",
   "metadata": {},
   "outputs": [
    {
     "data": {
      "text/plain": [
       "{1: 1, 2: 2, 3: 0, 9: 0, 100: 0, 99: 0, 8: 1}"
      ]
     },
     "execution_count": 16,
     "metadata": {},
     "output_type": "execute_result"
    }
   ],
   "source": [
    "list1 = [1,2,3,9,100,99,8]\n",
    "list2 = [1,2,2,8,200]\n",
    "dic={i:list2.count(i) for i in list1 }\n",
    "\n",
    "dic"
   ]
  },
  {
   "cell_type": "code",
   "execution_count": 20,
   "id": "30ed78e2",
   "metadata": {},
   "outputs": [
    {
     "name": "stdout",
     "output_type": "stream",
     "text": [
      "[2, 6, 7, 8]\n"
     ]
    }
   ],
   "source": [
    "l=[1,3,4,5,9,10]\n",
    "d=[]\n",
    "for i in range(1,max(l)):\n",
    "    if i not in l:\n",
    "        d.append(i)\n",
    "print(d)"
   ]
  },
  {
   "cell_type": "code",
   "execution_count": 21,
   "id": "95ef64a9",
   "metadata": {},
   "outputs": [
    {
     "data": {
      "text/plain": [
       "2"
      ]
     },
     "execution_count": 21,
     "metadata": {},
     "output_type": "execute_result"
    }
   ],
   "source": [
    "d[0]"
   ]
  },
  {
   "cell_type": "code",
   "execution_count": null,
   "id": "2db9cc91",
   "metadata": {},
   "outputs": [],
   "source": []
  }
 ],
 "metadata": {
  "kernelspec": {
   "display_name": "Python 3 (ipykernel)",
   "language": "python",
   "name": "python3"
  },
  "language_info": {
   "codemirror_mode": {
    "name": "ipython",
    "version": 3
   },
   "file_extension": ".py",
   "mimetype": "text/x-python",
   "name": "python",
   "nbconvert_exporter": "python",
   "pygments_lexer": "ipython3",
   "version": "3.9.12"
  }
 },
 "nbformat": 4,
 "nbformat_minor": 5
}
