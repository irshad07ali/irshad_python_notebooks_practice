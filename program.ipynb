{
 "cells": [
  {
   "cell_type": "code",
   "execution_count": 6,
   "id": "fa4c9d78",
   "metadata": {},
   "outputs": [
    {
     "name": "stdout",
     "output_type": "stream",
     "text": [
      "13\n"
     ]
    }
   ],
   "source": [
    "\n",
    "num = 15\n",
    "for i in range(0,num):\n",
    "    if i%2==0:\n",
    "        num=num/2\n",
    "    else:\n",
    "        num=num-1\n",
    "    if num==0:\n",
    "        break\n",
    "print(i-1)\n",
    "        "
   ]
  },
  {
   "cell_type": "code",
   "execution_count": 16,
   "id": "12dbbbc8",
   "metadata": {},
   "outputs": [],
   "source": [
    "def function(num):\n",
    "    cnt=0\n",
    "    while num>0:\n",
    "        if num%2==0:\n",
    "            num/=2\n",
    "        else:\n",
    "            num-=1\n",
    "        cnt=cnt+1\n",
    "    return cnt"
   ]
  },
  {
   "cell_type": "code",
   "execution_count": 17,
   "id": "8235b821",
   "metadata": {},
   "outputs": [
    {
     "data": {
      "text/plain": [
       "5"
      ]
     },
     "execution_count": 17,
     "metadata": {},
     "output_type": "execute_result"
    }
   ],
   "source": [
    "function(10)"
   ]
  },
  {
   "cell_type": "code",
   "execution_count": 18,
   "id": "ec0faab9",
   "metadata": {},
   "outputs": [
    {
     "data": {
      "text/plain": [
       "7"
      ]
     },
     "execution_count": 18,
     "metadata": {},
     "output_type": "execute_result"
    }
   ],
   "source": [
    "function(15)"
   ]
  },
  {
   "cell_type": "code",
   "execution_count": 1,
   "id": "a0e7173c",
   "metadata": {},
   "outputs": [],
   "source": [
    "# python program to print du[licates in list]"
   ]
  },
  {
   "cell_type": "code",
   "execution_count": 4,
   "id": "4179e3a9",
   "metadata": {},
   "outputs": [
    {
     "name": "stdout",
     "output_type": "stream",
     "text": [
      "[2, 7]\n"
     ]
    }
   ],
   "source": [
    "# O(n) algorithm\n",
    "lst= [2,\"hello\",7,11,14,2,1,4,7]\n",
    "d=[]\n",
    "for elem in lst:\n",
    "    if lst.count(elem)>1 and elem not in d:\n",
    "        d.append(elem)\n",
    "print(d)"
   ]
  },
  {
   "cell_type": "code",
   "execution_count": 6,
   "id": "d62f7b21",
   "metadata": {},
   "outputs": [
    {
     "name": "stdout",
     "output_type": "stream",
     "text": [
      "[2, 7, 10, 20, 40, 70, 77]\n"
     ]
    }
   ],
   "source": [
    "#O(n2) algorithm\n",
    "lst= [2,\"hello\",7,11,14,2,1,4,7,100,10,20,10,20,41,40,40,70,77,70,77]\n",
    "d=[]\n",
    "for i in range(0,len(lst)):\n",
    "    for j in range(i+1,len(lst)):\n",
    "        if lst[i]==lst[j] and lst[i] not in d:\n",
    "            d.append(lst[i])\n",
    "print(d)\n"
   ]
  },
  {
   "cell_type": "code",
   "execution_count": 7,
   "id": "69161c42",
   "metadata": {},
   "outputs": [],
   "source": [
    "#anagram algorithm"
   ]
  },
  {
   "cell_type": "code",
   "execution_count": 10,
   "id": "c83d9663",
   "metadata": {},
   "outputs": [
    {
     "name": "stdout",
     "output_type": "stream",
     "text": [
      "True\n"
     ]
    }
   ],
   "source": [
    "s1 =\" ab cd what it is\"\n",
    "s2 =\" wh ab dcta si ti\"\n",
    "\n",
    "s1.replace(\" \",\"\").lower()\n",
    "s2.replace(\" \",\"\").lower()\n",
    "\n",
    "print(sorted(s1)==sorted(s2))"
   ]
  },
  {
   "cell_type": "code",
   "execution_count": 18,
   "id": "4f182435",
   "metadata": {},
   "outputs": [],
   "source": [
    "def funcanagram(s1,s2):\n",
    "     s1.replace(\" \",\"\").lower()\n",
    "     s2.replace(\" \",\"\").lower()\n",
    "     return sorted(s1)==sorted(s2)\n",
    "\n",
    "    "
   ]
  },
  {
   "cell_type": "code",
   "execution_count": 19,
   "id": "ff969485",
   "metadata": {},
   "outputs": [
    {
     "data": {
      "text/plain": [
       "True"
      ]
     },
     "execution_count": 19,
     "metadata": {},
     "output_type": "execute_result"
    }
   ],
   "source": [
    "funcanagram(\"dogs\",\"sogd\")"
   ]
  },
  {
   "cell_type": "code",
   "execution_count": 30,
   "id": "b13b3980",
   "metadata": {},
   "outputs": [
    {
     "name": "stdout",
     "output_type": "stream",
     "text": [
      "False\n"
     ]
    }
   ],
   "source": [
    "#dictionary method\n",
    "\n",
    "def funanagram(s1,s2):\n",
    "    s1.replace(\" \",\"\").lower()\n",
    "    s2.replace(\" \",\"\").lower()\n",
    "    if len(s1)!=len(s2):\n",
    "        return False\n",
    "    count={}\n",
    "    for letter in s1:\n",
    "        if letter in count:\n",
    "            count[letter]+=1\n",
    "        else:\n",
    "            count[letter]=1\n",
    "    for letter in s2:\n",
    "        if letter in count:\n",
    "            count[letter]-=1\n",
    "        else:\n",
    "            count[letter]=1\n",
    "    for k in count:\n",
    "        if count[k]!=0:\n",
    "            return False \n",
    "    return True\n",
    "\n",
    "x=funanagram(\"old west view\",\"west dowl wiev\")\n",
    "print(x)\n",
    "        "
   ]
  },
  {
   "cell_type": "code",
   "execution_count": 31,
   "id": "84a7ca97",
   "metadata": {},
   "outputs": [
    {
     "name": "stdout",
     "output_type": "stream",
     "text": [
      "True\n"
     ]
    }
   ],
   "source": [
    "x=funanagram(\"gods\",\"sodg\")\n",
    "print(x)"
   ]
  },
  {
   "cell_type": "code",
   "execution_count": 32,
   "id": "8b2a02d2",
   "metadata": {},
   "outputs": [
    {
     "name": "stdout",
     "output_type": "stream",
     "text": [
      "aaabbcccc\n"
     ]
    }
   ],
   "source": [
    "str1=\"a3b2c4\"\n",
    "output=\"\"\n",
    "for char in str1:\n",
    "    if char.isalpha():\n",
    "        var=char\n",
    "    else:\n",
    "        num=int(char)\n",
    "        output=output + var*num\n",
    "print(output)"
   ]
  },
  {
   "cell_type": "code",
   "execution_count": 40,
   "id": "ec94336c",
   "metadata": {},
   "outputs": [
    {
     "name": "stdout",
     "output_type": "stream",
     "text": [
      "a3a3a3b2b2c4c4c4c4\n"
     ]
    }
   ],
   "source": [
    "str1=\"aaabbcccc\"\n",
    "output=\"\"\n",
    "for char in str1:\n",
    "    output+= char + str(str1.count(char))\n",
    "print(output)"
   ]
  },
  {
   "cell_type": "code",
   "execution_count": 51,
   "id": "934472f6",
   "metadata": {},
   "outputs": [
    {
     "name": "stdout",
     "output_type": "stream",
     "text": [
      "a3b2c4\n"
     ]
    }
   ],
   "source": [
    "str1=\"aaabbcccc\"\n",
    "output=\"\"\n",
    "dict = {}\n",
    "for i in str1:\n",
    "    if i in dict:\n",
    "        dict[i]+=1\n",
    "    else:\n",
    "        dict[i]=1  \n",
    "for keys,values in dict.items():\n",
    "    output+=keys+str(values)\n",
    "print(output)"
   ]
  },
  {
   "cell_type": "code",
   "execution_count": null,
   "id": "512b3657",
   "metadata": {},
   "outputs": [],
   "source": []
  }
 ],
 "metadata": {
  "kernelspec": {
   "display_name": "Python 3 (ipykernel)",
   "language": "python",
   "name": "python3"
  },
  "language_info": {
   "codemirror_mode": {
    "name": "ipython",
    "version": 3
   },
   "file_extension": ".py",
   "mimetype": "text/x-python",
   "name": "python",
   "nbconvert_exporter": "python",
   "pygments_lexer": "ipython3",
   "version": "3.9.12"
  }
 },
 "nbformat": 4,
 "nbformat_minor": 5
}
